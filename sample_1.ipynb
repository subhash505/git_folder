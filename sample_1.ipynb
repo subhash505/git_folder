{
 "cells": [
  {
   "cell_type": "code",
   "execution_count": 1,
   "id": "ace0c30c",
   "metadata": {},
   "outputs": [
    {
     "name": "stderr",
     "output_type": "stream",
     "text": [
      "usage: ipykernel_launcher.py [-h] echo\n",
      "ipykernel_launcher.py: error: unrecognized arguments: -f\n"
     ]
    },
    {
     "ename": "SystemExit",
     "evalue": "2",
     "output_type": "error",
     "traceback": [
      "An exception has occurred, use %tb to see the full traceback.\n",
      "\u001b[1;31mSystemExit\u001b[0m\u001b[1;31m:\u001b[0m 2\n"
     ]
    },
    {
     "name": "stderr",
     "output_type": "stream",
     "text": [
      "C:\\Users\\SubhashSharma\\anaconda3\\lib\\site-packages\\IPython\\core\\interactiveshell.py:3468: UserWarning: To exit: use 'exit', 'quit', or Ctrl-D.\n",
      "  warn(\"To exit: use 'exit', 'quit', or Ctrl-D.\", stacklevel=1)\n"
     ]
    }
   ],
   "source": [
    "import argparse\n",
    "parser = argparse.ArgumentParser()\n",
    "parser.add_argument(\"echo\", help=\"echo the string you use here\")\n",
    "args = parser.parse_args()\n",
    "print(args.echo)"
   ]
  },
  {
   "cell_type": "code",
   "execution_count": 1,
   "id": "c28965d5",
   "metadata": {},
   "outputs": [
    {
     "ename": "Error",
     "evalue": "('HY000', \"[HY000] [Microsoft][ODBC Excel Driver] The Microsoft Access database engine cannot open or write to the file '(unknown)'. It is already opened exclusively by another user, or you need permission to view and write its data. (-1032) (SQLDriverConnect); [HY000] [Microsoft][ODBC Excel Driver] The Microsoft Access database engine cannot open or write to the file '(unknown)'. It is already opened exclusively by another user, or you need permission to view and write its data. (-1032)\")",
     "output_type": "error",
     "traceback": [
      "\u001b[1;31m---------------------------------------------------------------------------\u001b[0m",
      "\u001b[1;31mError\u001b[0m                                     Traceback (most recent call last)",
      "Cell \u001b[1;32mIn[1], line 12\u001b[0m\n\u001b[0;32m      5\u001b[0m conn_str \u001b[39m=\u001b[39m (\n\u001b[0;32m      6\u001b[0m     \u001b[39mr\u001b[39m\u001b[39m\"\u001b[39m\u001b[39mDriver=\u001b[39m\u001b[39m{\u001b[39m\u001b[39mMicrosoft Excel Driver (*.xls, *.xlsx, *.xlsm, *.xlsb)};\u001b[39m\u001b[39m\"\u001b[39m\n\u001b[0;32m      7\u001b[0m     \u001b[39mr\u001b[39m\u001b[39m\"\u001b[39m\u001b[39mDbq=C:\u001b[39m\u001b[39m\\\u001b[39m\u001b[39mexample.xlsx;\u001b[39m\u001b[39m\"\u001b[39m\n\u001b[0;32m      8\u001b[0m     \u001b[39mr\u001b[39m\u001b[39m\"\u001b[39m\u001b[39mReadOnly=1;\u001b[39m\u001b[39m\"\u001b[39m\n\u001b[0;32m      9\u001b[0m )\n\u001b[0;32m     11\u001b[0m \u001b[39m# Connect to the Excel file\u001b[39;00m\n\u001b[1;32m---> 12\u001b[0m conn \u001b[39m=\u001b[39m pyodbc\u001b[39m.\u001b[39;49mconnect(conn_str, autocommit\u001b[39m=\u001b[39;49m\u001b[39mTrue\u001b[39;49;00m)\n\u001b[0;32m     14\u001b[0m \u001b[39m# Read data from Excel file\u001b[39;00m\n\u001b[0;32m     15\u001b[0m query \u001b[39m=\u001b[39m \u001b[39m\"\u001b[39m\u001b[39mSELECT * FROM [Sheet1$]\u001b[39m\u001b[39m\"\u001b[39m\n",
      "\u001b[1;31mError\u001b[0m: ('HY000', \"[HY000] [Microsoft][ODBC Excel Driver] The Microsoft Access database engine cannot open or write to the file '(unknown)'. It is already opened exclusively by another user, or you need permission to view and write its data. (-1032) (SQLDriverConnect); [HY000] [Microsoft][ODBC Excel Driver] The Microsoft Access database engine cannot open or write to the file '(unknown)'. It is already opened exclusively by another user, or you need permission to view and write its data. (-1032)\")"
     ]
    }
   ],
   "source": [
    "import pyodbc\n",
    "import pandas as pd\n",
    "\n",
    "# Create a connection string\n",
    "conn_str = (\n",
    "    r\"Driver={Microsoft Excel Driver (*.xls, *.xlsx, *.xlsm, *.xlsb)};\"\n",
    "    r\"Dbq=C:\\example.xlsx;\"\n",
    "    r\"ReadOnly=1;\"\n",
    ")\n",
    "\n",
    "# Connect to the Excel file\n",
    "conn = pyodbc.connect(conn_str, autocommit=True)\n",
    "\n",
    "# Read data from Excel file\n",
    "query = \"SELECT * FROM [Sheet1$]\"\n",
    "df = pd.read_sql_query(query, conn)\n",
    "\n",
    "# Close the connection\n",
    "conn.close()\n",
    "\n",
    "# Display the data\n",
    "print(df)\n"
   ]
  },
  {
   "cell_type": "code",
   "execution_count": 2,
   "id": "0f39427c",
   "metadata": {},
   "outputs": [
    {
     "ename": "InterfaceError",
     "evalue": "('IM002', '[IM002] [Microsoft][ODBC Driver Manager] Data source name not found and no default driver specified (0) (SQLDriverConnect)')",
     "output_type": "error",
     "traceback": [
      "\u001b[1;31m---------------------------------------------------------------------------\u001b[0m",
      "\u001b[1;31mInterfaceError\u001b[0m                            Traceback (most recent call last)",
      "Cell \u001b[1;32mIn[2], line 5\u001b[0m\n\u001b[0;32m      3\u001b[0m \u001b[39m# Connect to MySQL database using DSN\u001b[39;00m\n\u001b[0;32m      4\u001b[0m dsn \u001b[39m=\u001b[39m \u001b[39m\"\u001b[39m\u001b[39mMySQLDSN\u001b[39m\u001b[39m\"\u001b[39m\n\u001b[1;32m----> 5\u001b[0m conn \u001b[39m=\u001b[39m pyodbc\u001b[39m.\u001b[39;49mconnect(\u001b[39m\"\u001b[39;49m\u001b[39mDSN=\u001b[39;49m\u001b[39m\"\u001b[39;49m \u001b[39m+\u001b[39;49m dsn)\n\u001b[0;32m      7\u001b[0m \u001b[39m# Execute a query and fetch the results\u001b[39;00m\n\u001b[0;32m      8\u001b[0m cursor \u001b[39m=\u001b[39m conn\u001b[39m.\u001b[39mcursor()\n",
      "\u001b[1;31mInterfaceError\u001b[0m: ('IM002', '[IM002] [Microsoft][ODBC Driver Manager] Data source name not found and no default driver specified (0) (SQLDriverConnect)')"
     ]
    }
   ],
   "source": [
    "import pyodbc\n",
    "\n",
    "# Connect to MySQL database using DSN\n",
    "dsn = \"MySQLDSN\"\n",
    "conn = pyodbc.connect(\"DSN=\" + dsn)\n",
    "\n",
    "# Execute a query and fetch the results\n",
    "cursor = conn.cursor()\n",
    "cursor.execute(\"SELECT * FROM mytable\")\n",
    "rows = cursor.fetchall()\n",
    "\n",
    "# Print the results\n",
    "for row in rows:\n",
    "    print(row)\n",
    "\n",
    "# Close the connection\n",
    "conn.close()\n"
   ]
  },
  {
   "cell_type": "code",
   "execution_count": null,
   "id": "41a90048",
   "metadata": {},
   "outputs": [],
   "source": []
  }
 ],
 "metadata": {
  "kernelspec": {
   "display_name": "Python 3 (ipykernel)",
   "language": "python",
   "name": "python3"
  },
  "language_info": {
   "codemirror_mode": {
    "name": "ipython",
    "version": 3
   },
   "file_extension": ".py",
   "mimetype": "text/x-python",
   "name": "python",
   "nbconvert_exporter": "python",
   "pygments_lexer": "ipython3",
   "version": "3.10.9"
  }
 },
 "nbformat": 4,
 "nbformat_minor": 5
}
