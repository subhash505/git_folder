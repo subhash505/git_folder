{
 "cells": [
  {
   "cell_type": "code",
   "execution_count": null,
   "metadata": {},
   "outputs": [],
   "source": [
    "import configparser\n",
    "def main():\n",
    "    parser = configparser.ConfigParser()\n",
    "    parser.read('test.ini')\n",
    "    for sect in parser.sections():\n",
    "        print('Section:', sect)\n",
    "        for k,v in parser.items(sect):\n",
    "            print(' {} = {}'.format(k,v))\n",
    "        print()\n",
    "    # import configparser\n",
    "    parser = configparser.ConfigParser()\n",
    "    parser.add_section('Manager')\n",
    "    parser.set('Manager', 'Name', 'subhash sharma')\n",
    "    parser.set('Manager', 'email', 'mr.subhash505@gmail.com')\n",
    "    parser.set('Manager', 'password', 'secret')\n",
    "    fp=open('test.ini','w')\n",
    "    parser.write(fp)\n",
    "    fp.close()\n",
    "    # p= parser.get()\n",
    "    # print(p)\n",
    "\n",
    "    r = 0\n",
    "    s = [59, 47, 7, 17, 45]\n",
    "    l  = lambda s: sum(s)\n",
    "    print(l(s))\n",
    "\n",
    "\n",
    "if __name__ == \"__main__\" :\n",
    "    main()"
   ]
  },
  {
   "cell_type": "code",
   "execution_count": 2,
   "metadata": {},
   "outputs": [
    {
     "name": "stderr",
     "output_type": "stream",
     "text": [
      "usage: ipykernel_launcher.py [-h] [--dir DIR] [--pattern PATTERN]\n",
      "ipykernel_launcher.py: error: unrecognized arguments: --ip=127.0.0.1 --stdin=9003 --control=9001 --hb=9000 --Session.signature_scheme=\"hmac-sha256\" --Session.key=b\"328f07b5-01cd-4f38-8d05-95aec750058d\" --shell=9002 --transport=\"tcp\" --iopub=9004 --f=c:\\Users\\SubhashSharma\\AppData\\Roaming\\jupyter\\runtime\\kernel-v2-1792aGbMK4uf1ErH.json\n"
     ]
    },
    {
     "ename": "SystemExit",
     "evalue": "2",
     "output_type": "error",
     "traceback": [
      "An exception has occurred, use %tb to see the full traceback.\n",
      "\u001b[1;31mSystemExit\u001b[0m\u001b[1;31m:\u001b[0m 2\n"
     ]
    },
    {
     "name": "stderr",
     "output_type": "stream",
     "text": [
      "c:\\Users\\SubhashSharma\\anaconda3\\lib\\site-packages\\IPython\\core\\interactiveshell.py:3468: UserWarning: To exit: use 'exit', 'quit', or Ctrl-D.\n",
      "  warn(\"To exit: use 'exit', 'quit', or Ctrl-D.\", stacklevel=1)\n"
     ]
    }
   ],
   "source": []
  },
  {
   "cell_type": "code",
   "execution_count": null,
   "metadata": {},
   "outputs": [],
   "source": [
    "\n",
    "\n",
    "print(args.number1)\n",
    "print(args.number2)\n",
    "#print(args.operation)\n",
    "\n",
    "# n1=int(args.number1)\n",
    "# n2=int(args.number2)\n",
    "# result = None\n",
    "# if args.operation == \"add\":\n",
    "#     result=n1+n2\n",
    "# elif args.operation == \"subtract\":\n",
    "#     result=n1-n2\n",
    "# elif args.operation == \"multiply\":\n",
    "#     result=n1*n2\n",
    "\n",
    "\n",
    "# print(\"Result:\",result)"
   ]
  },
  {
   "cell_type": "code",
   "execution_count": null,
   "metadata": {},
   "outputs": [],
   "source": []
  },
  {
   "cell_type": "code",
   "execution_count": null,
   "metadata": {},
   "outputs": [],
   "source": []
  },
  {
   "cell_type": "code",
   "execution_count": null,
   "metadata": {},
   "outputs": [],
   "source": []
  }
 ],
 "metadata": {
  "kernelspec": {
   "display_name": "base",
   "language": "python",
   "name": "python3"
  },
  "language_info": {
   "codemirror_mode": {
    "name": "ipython",
    "version": 3
   },
   "file_extension": ".py",
   "mimetype": "text/x-python",
   "name": "python",
   "nbconvert_exporter": "python",
   "pygments_lexer": "ipython3",
   "version": "3.10.9"
  },
  "orig_nbformat": 4
 },
 "nbformat": 4,
 "nbformat_minor": 2
}
