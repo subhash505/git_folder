{
 "cells": [
  {
   "cell_type": "code",
   "execution_count": 2,
   "metadata": {},
   "outputs": [],
   "source": [
    "import configparser\n",
    "parser = configparser.ConfigParser()\n",
    "parser.read('sampleconfig.ini')\n",
    "for sect in parser.sections():\n",
    "   print('Section:', sect)\n",
    "   for k,v in parser.items(sect):\n",
    "      print(' {} = {}'.format(k,v))\n",
    "   print()"
   ]
  },
  {
   "cell_type": "code",
   "execution_count": 7,
   "metadata": {},
   "outputs": [
    {
     "name": "stdout",
     "output_type": "stream",
     "text": [
      "175\n"
     ]
    }
   ],
   "source": [
    "list = [59, 47, 7, 17, 45]\n",
    "f = lambda l: l[0] if len(l) == 1 else l[0] + f(l[1:])\n",
    "sum = f(list)\n",
    "print(sum)"
   ]
  },
  {
   "cell_type": "code",
   "execution_count": 14,
   "metadata": {},
   "outputs": [
    {
     "ename": "TypeError",
     "evalue": "'int' object is not callable",
     "output_type": "error",
     "traceback": [
      "\u001b[1;31m---------------------------------------------------------------------------\u001b[0m",
      "\u001b[1;31mTypeError\u001b[0m                                 Traceback (most recent call last)",
      "Cell \u001b[1;32mIn[14], line 8\u001b[0m\n\u001b[0;32m      6\u001b[0m s \u001b[39m=\u001b[39m [\u001b[39m59\u001b[39m, \u001b[39m47\u001b[39m, \u001b[39m7\u001b[39m, \u001b[39m17\u001b[39m, \u001b[39m45\u001b[39m]\n\u001b[0;32m      7\u001b[0m l \u001b[39m=\u001b[39m \u001b[39mlambda\u001b[39;00m s: \u001b[39msum\u001b[39m(s)\n\u001b[1;32m----> 8\u001b[0m \u001b[39mprint\u001b[39m(l(s))\n\u001b[0;32m      9\u001b[0m \u001b[39mprint\u001b[39m(p)\n",
      "Cell \u001b[1;32mIn[14], line 7\u001b[0m, in \u001b[0;36m<lambda>\u001b[1;34m(s)\u001b[0m\n\u001b[0;32m      5\u001b[0m r \u001b[39m=\u001b[39m \u001b[39m0\u001b[39m\n\u001b[0;32m      6\u001b[0m s \u001b[39m=\u001b[39m [\u001b[39m59\u001b[39m, \u001b[39m47\u001b[39m, \u001b[39m7\u001b[39m, \u001b[39m17\u001b[39m, \u001b[39m45\u001b[39m]\n\u001b[1;32m----> 7\u001b[0m l \u001b[39m=\u001b[39m \u001b[39mlambda\u001b[39;00m s: \u001b[39msum\u001b[39;49m(s)\n\u001b[0;32m      8\u001b[0m \u001b[39mprint\u001b[39m(l(s))\n\u001b[0;32m      9\u001b[0m \u001b[39mprint\u001b[39m(p)\n",
      "\u001b[1;31mTypeError\u001b[0m: 'int' object is not callable"
     ]
    }
   ],
   "source": [
    "# r=0\n",
    "# s=[59, 47, 7, 17, 45]\n",
    "# l= lambda s:  for i in s: r += i\n",
    "# print(l)\n",
    "r = 0\n",
    "s = [59, 47, 7, 17, 45]\n",
    "l = lambda s: sum(s)\n",
    "print(l(s))\n",
    "print(p)"
   ]
  },
  {
   "cell_type": "code",
   "execution_count": 9,
   "metadata": {},
   "outputs": [
    {
     "name": "stdout",
     "output_type": "stream",
     "text": [
      "175\n"
     ]
    }
   ],
   "source": [
    "s=[59, 47, 7, 17, 45]\n",
    "result=0\n",
    "for i in s:\n",
    "    result+=i\n",
    "print(result)"
   ]
  },
  {
   "cell_type": "code",
   "execution_count": null,
   "metadata": {},
   "outputs": [],
   "source": []
  }
 ],
 "metadata": {
  "kernelspec": {
   "display_name": "base",
   "language": "python",
   "name": "python3"
  },
  "language_info": {
   "codemirror_mode": {
    "name": "ipython",
    "version": 3
   },
   "file_extension": ".py",
   "mimetype": "text/x-python",
   "name": "python",
   "nbconvert_exporter": "python",
   "pygments_lexer": "ipython3",
   "version": "3.10.9"
  },
  "orig_nbformat": 4
 },
 "nbformat": 4,
 "nbformat_minor": 2
}
